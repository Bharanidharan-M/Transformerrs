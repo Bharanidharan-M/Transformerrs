{
  "nbformat": 4,
  "nbformat_minor": 0,
  "metadata": {
    "colab": {
      "provenance": [],
      "gpuType": "T4",
      "authorship_tag": "ABX9TyOlE6tjyv9RS56VDe9Kwl+u",
      "include_colab_link": true
    },
    "kernelspec": {
      "name": "python3",
      "display_name": "Python 3"
    },
    "language_info": {
      "name": "python"
    },
    "accelerator": "GPU"
  },
  "cells": [
    {
      "cell_type": "markdown",
      "metadata": {
        "id": "view-in-github",
        "colab_type": "text"
      },
      "source": [
        "<a href=\"https://colab.research.google.com/github/Bharanidharan-M/Transformerrs/blob/main/Transformers.ipynb\" target=\"_parent\"><img src=\"https://colab.research.google.com/assets/colab-badge.svg\" alt=\"Open In Colab\"/></a>"
      ]
    },
    {
      "cell_type": "code",
      "execution_count": null,
      "metadata": {
        "id": "XmYNRw14XFS2"
      },
      "outputs": [],
      "source": [
        "! pip install transformers"
      ]
    },
    {
      "cell_type": "code",
      "source": [
        "from transformers import pipeline\n",
        "classifier=pipeline(\"sentiment-analysis\")\n",
        "classifier(\"This is the best day in my life\")"
      ],
      "metadata": {
        "id": "aW8OrLIzXMD4"
      },
      "execution_count": null,
      "outputs": []
    },
    {
      "cell_type": "code",
      "source": [
        "classifier(\n",
        "    ['I have been waiting for a Hugginface course my whole life','Today I am so tierd']\n",
        ")"
      ],
      "metadata": {
        "id": "KGYCv7fQXpln"
      },
      "execution_count": null,
      "outputs": []
    },
    {
      "cell_type": "code",
      "source": [
        "from transformers import pipeline\n",
        "classifier=pipeline(\"zero-shot-classification\")\n",
        "classifier(\n",
        "    \"I am working on my new project\"\n",
        ",candidate_labels=[\"education\",\"politics\",\"business\"])"
      ],
      "metadata": {
        "id": "snwH6nFrYNr-"
      },
      "execution_count": null,
      "outputs": []
    },
    {
      "cell_type": "code",
      "source": [
        "generator=pipeline(\"text-generation\")\n",
        "generator(\"Today climate is good\")"
      ],
      "metadata": {
        "id": "dxKOArF1ZDwM"
      },
      "execution_count": null,
      "outputs": []
    },
    {
      "cell_type": "code",
      "source": [
        "# Use a pipeline as a high-level helper\n",
        "from transformers import pipeline\n",
        "\n",
        "pipe = pipeline(\"text-generation\", model=\"openai-community/gpt2\")"
      ],
      "metadata": {
        "id": "M7qro6oaZdak"
      },
      "execution_count": null,
      "outputs": []
    },
    {
      "cell_type": "code",
      "source": [
        "# Load model directly\n",
        "from transformers import AutoTokenizer, AutoModelForCausalLM\n",
        "tokenizer = AutoTokenizer.from_pretrained(\"openai-community/gpt2\")\n",
        "model = AutoModelForCausalLM.from_pretrained(\"openai-community/gpt2\")"
      ],
      "metadata": {
        "id": "Ka_pkls5aUkJ"
      },
      "execution_count": null,
      "outputs": []
    },
    {
      "cell_type": "code",
      "source": [
        "from transformers import pipeline\n",
        "unmasker=pipeline(\"fill-mask\")\n",
        "unmasker(\"Today climate is good<mask>\",top_k=2)"
      ],
      "metadata": {
        "id": "jzhvfHbPhgt8"
      },
      "execution_count": null,
      "outputs": []
    },
    {
      "cell_type": "code",
      "source": [
        "ner=pipeline(\"ner\",grouped_entities=True)\n",
        "ner(\"my name is sylvain and i work at huuging face brooklyn\")"
      ],
      "metadata": {
        "id": "Bkp4l5zph4AN"
      },
      "execution_count": null,
      "outputs": []
    },
    {
      "cell_type": "code",
      "source": [
        "question_answering=pipeline(\"question-answering\")\n",
        "question_answering(\n",
        "    question=\"Which countries does the Nile flow through?\",\n",
        "    context=\"The Nile is the longest river in the world. It flows through several countries including Uganda, Sudan, and Egypt. The river plays a major role in supporting agriculture and livelihoods in the region.\"\n",
        ")"
      ],
      "metadata": {
        "id": "VGdnEkt6iXYV"
      },
      "execution_count": null,
      "outputs": []
    },
    {
      "cell_type": "code",
      "source": [
        "summarizer=pipeline(\"summarization\")\n",
        "summarizer(\"\"\"Artificial intelligence (AI) is the simulation of human intelligence processes by machines,\n",
        "especially computer systems. These processes include learning, reasoning, and self-correction.\n",
        "AI is being used in various applications, including expert systems, natural language processing (NLP),\n",
        "speech recognition, and machine vision. AI systems are powered by algorithms, using techniques\n",
        "such as machine learning and deep learning to demonstrate 'intelligent' behavior.\"\"\")"
      ],
      "metadata": {
        "id": "OXmox3iBjwoE"
      },
      "execution_count": null,
      "outputs": []
    },
    {
      "cell_type": "code",
      "source": [
        "from transformers import pipeline\n",
        "translator=pipeline(\"translation\",model=\"t5-small\")"
      ],
      "metadata": {
        "id": "KSKv2Oe3j9Fx"
      },
      "execution_count": null,
      "outputs": []
    },
    {
      "cell_type": "code",
      "source": [
        "from transformers import AutoTokenizer,AutoModelForSequenceClassification\n",
        "import torch"
      ],
      "metadata": {
        "id": "wXJT_Y90pAOu"
      },
      "execution_count": null,
      "outputs": []
    },
    {
      "cell_type": "code",
      "source": [
        "tokenizer=AutoTokenizer.from_pretrained(\"distilbert-base-uncased-finetuned-sst-2-english\")\n",
        "model=AutoModelForSequenceClassification.from_pretrained(\"distilbert-base-uncased-finetuned-sst-2-english\")"
      ],
      "metadata": {
        "id": "2R_kGzjXpMq0"
      },
      "execution_count": null,
      "outputs": []
    },
    {
      "cell_type": "code",
      "source": [
        "sentence=\"I love this!\""
      ],
      "metadata": {
        "id": "IIZjk07Lps5V"
      },
      "execution_count": null,
      "outputs": []
    },
    {
      "cell_type": "code",
      "source": [
        "inputs=tokenizer(sentence,return_tensors=\"pt\")"
      ],
      "metadata": {
        "id": "8bVC6T4jp4gF"
      },
      "execution_count": null,
      "outputs": []
    },
    {
      "cell_type": "code",
      "source": [
        "outputs=model(**inputs)\n",
        "probabilities=torch.softmax(outputs.logits,dim=1)"
      ],
      "metadata": {
        "id": "y8o_PWNeqCZF"
      },
      "execution_count": null,
      "outputs": []
    },
    {
      "cell_type": "code",
      "source": [
        "probabilities"
      ],
      "metadata": {
        "id": "QcA_dte5qQpP"
      },
      "execution_count": null,
      "outputs": []
    },
    {
      "cell_type": "code",
      "source": [
        "label_id=torch.argmax(probabilities).item()\n",
        "label=model.config.id2label[label_id]"
      ],
      "metadata": {
        "id": "IMsCwJ-uqRDK"
      },
      "execution_count": null,
      "outputs": []
    },
    {
      "cell_type": "code",
      "source": [
        "label_id"
      ],
      "metadata": {
        "id": "lUaO0GjNqRTL"
      },
      "execution_count": null,
      "outputs": []
    },
    {
      "cell_type": "code",
      "source": [
        "print(f\"Sentence:{sentence}\")\n",
        "print(f\"Sentiment:{label}\")\n",
        "print(f\"Probabilities:{probabilities.tolist()}\")"
      ],
      "metadata": {
        "id": "yWeg8Js2qyXE"
      },
      "execution_count": null,
      "outputs": []
    }
  ]
}